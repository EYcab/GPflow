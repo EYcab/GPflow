{
 "cells": [
  {
   "cell_type": "markdown",
   "metadata": {},
   "source": [
    "# Gaussian process regression with known output noise"
   ]
  },
  {
   "cell_type": "markdown",
   "metadata": {},
   "source": [
    "This notebook will show how to construct a Gaussian process model where the noise is assumed different for each datapoint. This model is\n",
    "\n",
    "$$f(\\cdot) \\sim \\mathcal{GP}\\big(0, k(\\cdot, \\cdot)\\big)$$\n",
    "$$y_i | f, x_i \\sim \\mathcal N\\big(y_i; f(x_i), \\sigma^2_i\\big)$$\n",
    "\n",
    "To acheive this we'll:\n",
    "\n",
    "1) Incorporate the known noise variances $\\sigma^2_i$ into the data matrix $\\mathbf Y$\n",
    "\n",
    "2) Make a new likelihood that can deal with this data structure\n",
    "\n",
    "3) Use Variational GPs with Natural Gradients for inference. \n",
    "\n"
   ]
  },
  {
   "cell_type": "code",
   "execution_count": 9,
   "metadata": {
    "ExecuteTime": {
     "end_time": "2018-06-19T10:58:45.195606Z",
     "start_time": "2018-06-19T10:58:44.172232Z"
    }
   },
   "outputs": [],
   "source": [
    "import numpy as np\n",
    "from matplotlib import rcParams\n",
    "rcParams['figure.figsize'] = [12, 6]\n",
    "import matplotlib.pyplot as plt\n",
    "import gpflow\n",
    "%matplotlib inline\n",
    "\n",
    "MAXITER = gpflow.test_util.notebook_niter(15000)"
   ]
  },
  {
   "cell_type": "markdown",
   "metadata": {},
   "source": [
    "### Generate synthetic data\n",
    "We create a utility function to generate synthetic data, we assume that:"
   ]
  },
  {
   "cell_type": "code",
   "execution_count": 10,
   "metadata": {},
   "outputs": [],
   "source": [
    "def generate_data(N=100):\n",
    "    X = np.random.rand(N)[:, None] * 10 - 5  # Inputs = N x 1\n",
    "    F = 2.5 * np.sin(3 * X) + X  # Mean function values\n",
    "    Sigma = 0.02 * np.cos(X) - X  # npoise variances\n",
    "    Y = F + np.random.randn(N, 1) * Sigma  # noise data\n",
    "    return X, Y, Sigma**2"
   ]
  },
  {
   "cell_type": "code",
   "execution_count": 11,
   "metadata": {
    "ExecuteTime": {
     "end_time": "2018-06-19T10:58:46.500202Z",
     "start_time": "2018-06-19T10:58:46.486870Z"
    }
   },
   "outputs": [],
   "source": [
    "X, Y, Sigma = generate_data(30)"
   ]
  },
  {
   "cell_type": "markdown",
   "metadata": {},
   "source": [
    "Here's a plot of the data, with errorbars representing two standard deviations. "
   ]
  },
  {
   "cell_type": "code",
   "execution_count": 12,
   "metadata": {
    "ExecuteTime": {
     "end_time": "2018-06-19T10:58:48.106040Z",
     "start_time": "2018-06-19T10:58:48.092379Z"
    }
   },
   "outputs": [
    {
     "data": {
      "text/plain": [
       "<ErrorbarContainer object of 3 artists>"
      ]
     },
     "execution_count": 12,
     "metadata": {},
     "output_type": "execute_result"
    },
    {
     "data": {
      "image/png": "[encoded data removed]",
      "text/plain": [
       "<Figure size 864x432 with 1 Axes>"
      ]
     },
     "metadata": {
      "needs_background": "light"
     },
     "output_type": "display_data"
    }
   ],
   "source": [
    "plt.figure(figsize=(12, 6))\n",
    "plt.errorbar(X, Y, yerr=2*(np.sqrt(Sigma)), marker='x', lw=0, elinewidth=1., color='C1')"
   ]
  },
  {
   "cell_type": "markdown",
   "metadata": {},
   "source": [
    "### Make a Y matrix that includes the variances\n",
    "Since GPflow models are based on generalised GP models, we need to coerce out modelling assumptions into that form. All that's needed is to stack the observations with their respective  variances.\n"
   ]
  },
  {
   "cell_type": "code",
   "execution_count": 13,
   "metadata": {
    "ExecuteTime": {
     "end_time": "2018-06-19T10:58:58.849062Z",
     "start_time": "2018-06-19T10:58:58.840498Z"
    }
   },
   "outputs": [],
   "source": [
    "Y_data = np.hstack([Y, Sigma])"
   ]
  },
  {
   "cell_type": "markdown",
   "metadata": {
    "ExecuteTime": {
     "end_time": "2018-06-19T10:58:59.599039Z",
     "start_time": "2018-06-19T10:58:59.546311Z"
    }
   },
   "source": [
    "### Make a new likelihood\n",
    "To cope with this data type, we'll build a new likelihood. Note how the code extract the observations Y and the variances Sigma from the data."
   ]
  },
  {
   "cell_type": "code",
   "execution_count": 14,
   "metadata": {
    "ExecuteTime": {
     "end_time": "2018-06-19T10:59:00.543712Z",
     "start_time": "2018-06-19T10:59:00.352130Z"
    }
   },
   "outputs": [],
   "source": [
    "class HetGaussian(gpflow.likelihoods.Likelihood):\n",
    "    def logp(self, F, Y_data):\n",
    "        Y, Sigma = Y_data[:, 0:1], Y_data[:, 1:2]\n",
    "        return gpflow.logdensities.gaussian(Y, F, Sigma)\n",
    "\n",
    "    def conditional_mean(self, F):\n",
    "        raise NotImplementedError\n",
    "\n",
    "    def conditional_variance(self, F):\n",
    "        raise NotImplementedError\n",
    "\n",
    "    def predict_density(self, Fmu, Fvar, Y):\n",
    "        Y, Sigma = Y_data[:, 0:1], Y_data[:, 1:2]\n",
    "        return logdensities.gaussian(Y, Fmu, Fvar + Sigma)\n",
    "\n",
    "    def variational_expectations(self, Fmu, Fvar, Y):\n",
    "        Y, Sigma = Y_data[:, 0:1], Y_data[:, 1:2]\n",
    "        return -0.5 * np.log(2 * np.pi) - 0.5 * tf.log(Sigma) \\\n",
    "               - 0.5 * (tf.square(Y - Fmu) + Fvar) / Sigma"
   ]
  },
  {
   "cell_type": "markdown",
   "metadata": {
    "ExecuteTime": {
     "end_time": "2018-06-19T10:59:02.113396Z",
     "start_time": "2018-06-19T10:59:01.860960Z"
    }
   },
   "source": [
    "### Put it together with VGP\n",
    "Here we'l build a variational GP model with the above likelihood on the dataset we generated. We'll use the natural gradient optimizer (see also ?link?)"
   ]
  },
  {
   "cell_type": "code",
   "execution_count": 18,
   "metadata": {},
   "outputs": [],
   "source": [
    "# model construction\n",
    "likelihood = HetGaussian()\n",
    "kern = gpflow.kernels.Matern32(1, lengthscales=0.8)\n",
    "model = gpflow.models.VGP(X, Y_data, kern=kern, likelihood=likelihood)"
   ]
  },
  {
   "cell_type": "code",
   "execution_count": 19,
   "metadata": {},
   "outputs": [],
   "source": [
    "# build the natural gradients optimizer\n",
    "natgrad_optimizer = gpflow.training.NatGradOptimizer(gamma=1.)\n",
    "natgrad_tensor = natgrad_optimizer.make_optimize_tensor(model, var_list=[(model.q_mu, model.q_sqrt)])\n",
    "\n",
    "# A single natural gradient step:\n",
    "session = gpflow.get_default_session()\n",
    "session.run(natgrad_tensor)\n",
    "\n",
    "# update the cache of the variational parameters in the current session\n",
    "model.anchor(session)"
   ]
  },
  {
   "cell_type": "code",
   "execution_count": 20,
   "metadata": {},
   "outputs": [
    {
     "data": {
      "text/plain": [
       "(-5, 5)"
      ]
     },
     "execution_count": 20,
     "metadata": {},
     "output_type": "execute_result"
    },
    {
     "data": {
      "image/png": "[encoded data removed]",
      "text/plain": [
       "<Figure size 864x432 with 1 Axes>"
      ]
     },
     "metadata": {
      "needs_background": "light"
     },
     "output_type": "display_data"
    }
   ],
   "source": [
    "# let's do some plotting!\n",
    "xx = np.linspace(-5, 5, 100)[:, None]\n",
    "\n",
    "mu, var = model.predict_f(xx)\n",
    "\n",
    "plt.figure(figsize=(12, 6))\n",
    "plt.plot(xx, mu, 'C0')\n",
    "plt.plot(xx, mu + 2*np.sqrt(var), 'C0', lw=0.5)\n",
    "plt.plot(xx, mu - 2*np.sqrt(var), 'C0', lw=0.5)\n",
    "\n",
    "plt.errorbar(X, Y, yerr=2*(np.sqrt(Sigma)), marker='x', lw=0, elinewidth=1., color='C1')\n",
    "plt.xlim(-5, 5)"
   ]
  },
  {
   "cell_type": "markdown",
   "metadata": {},
   "source": [
    "### Questions for the reader\n",
    "1) Why does the GP fit adapt to the data in the middle of the plot more than those to the edges?\n",
    "\n",
    "2) Why did we not implement conditional_mean and conditional_var in the HetGaussian likelihood?\n",
    "\n",
    "2) What are some better kernel settings? "
   ]
  },
  {
   "cell_type": "code",
   "execution_count": null,
   "metadata": {},
   "outputs": [],
   "source": []
  }
 ],
 "metadata": {
  "kernelspec": {
   "display_name": "Python 3",
   "language": "python",
   "name": "python3"
  },
  "language_info": {
   "codemirror_mode": {
    "name": "ipython",
    "version": 3
   },
   "file_extension": ".py",
   "mimetype": "text/x-python",
   "name": "python",
   "nbconvert_exporter": "python",
   "pygments_lexer": "ipython3",
   "version": "3.7.2"
  }
 },
 "nbformat": 4,
 "nbformat_minor": 2
}
